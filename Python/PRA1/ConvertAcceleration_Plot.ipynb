{
 "cells": [
  {
   "cell_type": "code",
   "execution_count": 12,
   "metadata": {
    "colab": {
     "base_uri": "https://localhost:8080/",
     "height": 154
    },
    "colab_type": "code",
    "executionInfo": {
     "elapsed": 5442,
     "status": "ok",
     "timestamp": 1598908871968,
     "user": {
      "displayName": "Emily Tyhurst",
      "photoUrl": "",
      "userId": "17850709936657930153"
     },
     "user_tz": 240
    },
    "id": "E5qCeX9BJ3Bd",
    "outputId": "7c4fb507-d161-40d9-fead-69c015489b61"
   },
   "outputs": [],
   "source": [
    "########################################################\n",
    "# ConvertAcceleration\n",
    "#\n",
    "# This notebook converts acceleration data to velocity and\n",
    "# position data and then plots the data. \n",
    "#\n",
    "########################################################\n",
    "#### -------------- IMPORT BLOCK ------------------ ####\n",
    "# In this section we import important Python packages. #\n",
    "\n",
    "import numpy as np # NumPy, a numerical Python package, is used for representing numerical data\n",
    "import matplotlib.pyplot as plt # Matplotlib, a Python plotting package, is used for plotting data. \n",
    "import matplotlib\n",
    "\n",
    "font = {'size'   : 12}\n",
    "\n",
    "matplotlib.rc('font', **font)"
   ]
  },
  {
   "cell_type": "code",
   "execution_count": 13,
   "metadata": {
    "colab": {},
    "colab_type": "code",
    "id": "c40cEwgxJ3Bi"
   },
   "outputs": [],
   "source": [
    "### -------(!!!) INPUT DATA (!!!) ----------- ###\n",
    "### You may change these variables as needed. ###\n",
    "\n",
    "# The input data section takes two forms: position or acceleration,\n",
    "# depending on your experimental design. Your TA should have let you\n",
    "# know which file to be using.\n",
    "\n",
    "# YOUR_NAME:\n",
    "#\n",
    "# Your name. This will help distinguish your plots.\n",
    "NAME = \"Candy Zhou\"\n",
    "\n",
    "# ACCELERATION_FILENAME:\n",
    "#\n",
    "# The name of the file containing your acceleration-time data.\n",
    "# \n",
    "# Your file should be a comma-separated value file\n",
    "# with time in the first column and position in the second. \n",
    "#\n",
    "# The units of position should be m/s^2. \n",
    "ACCELERATION_FILENAME=\"time-acceleration.csv\"  \n",
    "\n",
    "# The acceleration script will treat your zero point as where you dropped your object. "
   ]
  },
  {
   "cell_type": "code",
   "execution_count": 14,
   "metadata": {
    "colab": {
     "base_uri": "https://localhost:8080/",
     "height": 377
    },
    "colab_type": "code",
    "executionInfo": {
     "elapsed": 518,
     "status": "error",
     "timestamp": 1598904910337,
     "user": {
      "displayName": "Emily Tyhurst",
      "photoUrl": "",
      "userId": "17850709936657930153"
     },
     "user_tz": 240
    },
    "id": "voUOlJuKJ3Bk",
    "outputId": "4035f4e6-8394-4538-e7e7-f1b68faabcdb"
   },
   "outputs": [
    {
     "name": "stdout",
     "output_type": "stream",
     "text": [
      "[9.8  9.81 9.47 9.33 9.2 ]\n"
     ]
    }
   ],
   "source": [
    "#### ------------- DATA LOAD BLOCK ------------------- ####\n",
    "# In this section we import CSV files from your Practical #\n",
    "# and load them into NumPy arrays.                        #\n",
    "\n",
    "# Use NumPy to load the position data from the CSV file\n",
    "acceleration_data = np.genfromtxt(ACCELERATION_FILENAME, delimiter=',', comments='#',skip_header=True)\n",
    "\n",
    "# Separate the data into position and time \n",
    "time=  acceleration_data[:,0] # time in (s)\n",
    "acceleration = acceleration_data[:,1] # acceleration in m/s^2\n",
    "\n",
    "print(acceleration)\n",
    "# Calculate the velocity based on position\n",
    "velocity=np.zeros(np.shape(time))\n",
    "for i in range(1, time.size):\n",
    "    velocity[i]= velocity[i-1]+acceleration[i]*(time[i]-time[i-1])\n",
    "\n",
    "# Calculate the position based on velocity\n",
    "position=np.zeros(np.shape(time))\n",
    "for i in range(1, time.size):\n",
    "    position[i]= velocity[i-1]*(time[i]-time[i-1])+(1/2)*acceleration[i]*(time[i]-time[i-1])**2\n"
   ]
  },
  {
   "cell_type": "code",
   "execution_count": 15,
   "metadata": {
    "colab": {},
    "colab_type": "code",
    "id": "acbqQ-D9J3Bm"
   },
   "outputs": [
    {
     "data": {
      "image/png": "[encoded data removed]",
      "text/plain": [
       "<Figure size 432x288 with 1 Axes>"
      ]
     },
     "metadata": {},
     "output_type": "display_data"
    },
    {
     "data": {
      "text/plain": [
       "<Figure size 432x288 with 0 Axes>"
      ]
     },
     "metadata": {},
     "output_type": "display_data"
    }
   ],
   "source": [
    "#### ---------- POSITION PLOTTING BLOCK ------------- ####\n",
    "# In this section we plot the data from your experiment. #\n",
    "# Here we are plotting position against time.            #\n",
    "\n",
    "plt.plot(time, position, 'b.', label=\"Position (m)\")\n",
    "plt.title(NAME+\": Position Data\")\n",
    "plt.xlabel(\"Time (s)\")\n",
    "plt.ylabel(\"Position (m)\")\n",
    "plt.grid()\n",
    "plt.legend()\n",
    "plt.savefig(NAME.replace(\" \",\"_\")+\"_Position_Data.png\")\n",
    "plt.show()\n",
    "plt.clf()"
   ]
  },
  {
   "cell_type": "code",
   "execution_count": 16,
   "metadata": {
    "colab": {},
    "colab_type": "code",
    "id": "R5AXGegPJ3Bp",
    "outputId": "00199eea-7503-4e13-9487-525fb10ce10e"
   },
   "outputs": [
    {
     "data": {
      "image/png": "[encoded data removed]",
      "text/plain": [
       "<Figure size 432x288 with 1 Axes>"
      ]
     },
     "metadata": {},
     "output_type": "display_data"
    },
    {
     "data": {
      "text/plain": [
       "<Figure size 432x288 with 0 Axes>"
      ]
     },
     "metadata": {},
     "output_type": "display_data"
    }
   ],
   "source": [
    "#### ---------- VELOCITY PLOTTING BLOCK ------------- ####\n",
    "# In this section we plot the data from your experiment. #\n",
    "# Here we are plotting velocity over time.  #\n",
    "\n",
    "plt.plot(time, velocity, 'b.', label=\"Velocity (m/s)\")\n",
    "plt.title(NAME+\": Velocity Data\")\n",
    "plt.xlabel(\"Time (s)\")\n",
    "plt.ylabel(\"Velocity (m/s)\")\n",
    "plt.grid()\n",
    "plt.legend()\n",
    "plt.savefig(NAME.replace(\" \",\"_\")+\"_Velocity_Data.png\")\n",
    "plt.show()\n",
    "plt.clf()\n"
   ]
  },
  {
   "cell_type": "code",
   "execution_count": 17,
   "metadata": {
    "colab": {},
    "colab_type": "code",
    "id": "815oRL69J3Bu",
    "outputId": "6ae511a7-f1b9-409d-d250-c1d29dedc7e6"
   },
   "outputs": [
    {
     "data": {
      "image/png": "[encoded data removed]",
      "text/plain": [
       "<Figure size 432x288 with 1 Axes>"
      ]
     },
     "metadata": {},
     "output_type": "display_data"
    },
    {
     "data": {
      "text/plain": [
       "<Figure size 432x288 with 0 Axes>"
      ]
     },
     "metadata": {},
     "output_type": "display_data"
    }
   ],
   "source": [
    "#### ---------- ACCELERATION PLOTTING BLOCK ------------- ####\n",
    "# In this section we plot the data from your experiment. #\n",
    "# Here we are plotting acceleration over time.  #\n",
    "\n",
    "plt.plot(time, acceleration, 'b.', label=\"Acceleration $(m/s^2)$\")\n",
    "plt.title(NAME+\": Acceleration Data\")\n",
    "plt.xlabel(\"Time $(s)$\")\n",
    "plt.ylabel(\"Acceleration $(m/s^2)$\")\n",
    "plt.grid()\n",
    "plt.legend()\n",
    "plt.savefig(NAME.replace(\" \",\"_\")+\"_Acceleration_Data.png\")\n",
    "plt.show()\n",
    "plt.clf()"
   ]
  }
 ],
 "metadata": {
  "colab": {
   "name": "ConvertAcceleration_FitConstant.ipynb",
   "provenance": []
  },
  "kernelspec": {
   "display_name": "Python 3",
   "language": "python",
   "name": "python3"
  },
  "language_info": {
   "codemirror_mode": {
    "name": "ipython",
    "version": 3
   },
   "file_extension": ".py",
   "mimetype": "text/x-python",
   "name": "python",
   "nbconvert_exporter": "python",
   "pygments_lexer": "ipython3",
   "version": "3.6.9"
  }
 },
 "nbformat": 4,
 "nbformat_minor": 1
}
